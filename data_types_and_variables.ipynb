{
 "cells": [
  {
   "cell_type": "code",
   "execution_count": 1,
   "id": "749cf1bf",
   "metadata": {},
   "outputs": [
    {
     "name": "stdout",
     "output_type": "stream",
     "text": [
      "27\n"
     ]
    }
   ],
   "source": [
    "'''You have rented some movies for your kids: \n",
    "The little mermaid (for 3 days), Brother Bear (for 5 days, they love it), \n",
    "and Hercules (1 day, you don't know yet if they're going to like it). \n",
    "If price for a movie per day is 3 dollars, how much will you have to pay?\n",
    "'''\n",
    "\n",
    "LM = 3\n",
    "BB = 5\n",
    "H = 1\n",
    "price_rate = 3\n",
    "Total_Spent = (LM + BB + H) * price_rate\n",
    "print(Total_Spent)"
   ]
  },
  {
   "cell_type": "code",
   "execution_count": 2,
   "id": "7f637aae",
   "metadata": {},
   "outputs": [
    {
     "name": "stdout",
     "output_type": "stream",
     "text": [
      "7420\n"
     ]
    }
   ],
   "source": [
    "'''Suppose you're working as a contractor for 3 companies: Google, Amazon and Facebook, they pay you a different rate per hour. \n",
    "Google pays 400 dollars per hour, Amazon 380, and Facebook 350. \n",
    "How much will you receive in payment for this week? You worked 10 hours for Facebook, 6 hours for Google and 4 hours for Amazon.'''\n",
    "\n",
    "Google = 400\n",
    "Amazon = 380\n",
    "Facebook = 350\n",
    "Payment = (Google * 6) + (Facebook * 10) + (Amazon * 4)\n",
    "print(Payment)"
   ]
  },
  {
   "cell_type": "code",
   "execution_count": 3,
   "id": "081bdd4c",
   "metadata": {},
   "outputs": [
    {
     "name": "stdout",
     "output_type": "stream",
     "text": [
      "True\n"
     ]
    }
   ],
   "source": [
    "'''A student can be enrolled to a class only if the class is not full and the class schedule does not conflict with her current schedule.'''\n",
    "class_not_full = True\n",
    "class_schedule_does_not_confilict = True\n",
    "can_be_enrolled = class_not_full and class_schedule_does_not_confilict\n",
    "print(can_be_enrolled)"
   ]
  },
  {
   "cell_type": "code",
   "execution_count": 4,
   "id": "b5dee146",
   "metadata": {},
   "outputs": [
    {
     "name": "stdout",
     "output_type": "stream",
     "text": [
      "True\n"
     ]
    }
   ],
   "source": [
    "'''A product offer can be applied only if people buys more than 2 items, \n",
    "and the offer has not expired. \n",
    "Premium members do not need to buy a specific amount of products.'''\n",
    "\n",
    "people_bought_more_than_two = True\n",
    "product_expired = False\n",
    "premium_member = True\n",
    "offer_can_be_applied = (people_bought_more_than_two or premium_member) and not product_expired\n",
    "\n",
    "print (offer_can_be_applied)"
   ]
  },
  {
   "cell_type": "code",
   "execution_count": 6,
   "id": "c29a5a92",
   "metadata": {},
   "outputs": [
    {
     "name": "stdout",
     "output_type": "stream",
     "text": [
      "Your username and password have been created!\n"
     ]
    }
   ],
   "source": [
    "'''Create a variable that holds a boolean value for each of the following conditions:\n",
    "\n",
    "the password must be at least 5 characters\n",
    "the username must be no more than 20 characters\n",
    "the password must not be the same as the username\n",
    "bonus neither the username or password can start or end with whitespace\n",
    "'''\n",
    "\n",
    "username = \"username\"\n",
    "password = \"password\"\n",
    "usernamelength = len(username)\n",
    "\n",
    "user_name_min = usernamelength < 5\n",
    "user_name_max = usernamelength >= 20\n",
    "pass_is_user_name = password == username\n",
    "no_whitespace = username == username.strip()\n",
    "valid_credentials = not user_name_min and not user_name_max and\\\n",
    "not pass_is_user_name and no_whitespace\n",
    "\n",
    "if user_name_min:\n",
    "    print(\"Username must be at least 5 characters\")\n",
    "elif user_name_max:\n",
    "    print(\"Username must be less than 20 characters\")\n",
    "elif password == username:\n",
    "    print (\"Your username cannot be the same as your password\")\n",
    "elif valid_credentials:\n",
    "    print(\"Your username and password have been created!\")"
   ]
  }
 ],
 "metadata": {
  "kernelspec": {
   "display_name": "Python 3 (ipykernel)",
   "language": "python",
   "name": "python3"
  },
  "language_info": {
   "codemirror_mode": {
    "name": "ipython",
    "version": 3
   },
   "file_extension": ".py",
   "mimetype": "text/x-python",
   "name": "python",
   "nbconvert_exporter": "python",
   "pygments_lexer": "ipython3",
   "version": "3.9.12"
  },
  "vscode": {
   "interpreter": {
    "hash": "aee8b7b246df8f9039afb4144a1f6fd8d2ca17a180786b69acc140d282b71a49"
   }
  }
 },
 "nbformat": 4,
 "nbformat_minor": 5
}
