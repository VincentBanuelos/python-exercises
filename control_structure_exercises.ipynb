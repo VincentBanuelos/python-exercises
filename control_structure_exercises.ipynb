{
 "cells": [
  {
   "cell_type": "code",
   "execution_count": 1,
   "id": "174b3e6d",
   "metadata": {},
   "outputs": [
    {
     "name": "stdout",
     "output_type": "stream",
     "text": [
      "What day of the week is it? Sunday\n",
      "Today is not Monday\n"
     ]
    }
   ],
   "source": [
    "# 1a. prompt the user for a day of the week, print out whether the day is Monday or not\n",
    "\n",
    "what_is_today = input(\"What day of the week is it? \")\n",
    "\n",
    "if what_is_today == \"monday\":\n",
    "    print(\"Today is Monday!\")\n",
    "else:\n",
    "    print(\"Today is not Monday\")"
   ]
  },
  {
   "cell_type": "code",
   "execution_count": 4,
   "id": "3329dbf7",
   "metadata": {},
   "outputs": [
    {
     "name": "stdout",
     "output_type": "stream",
     "text": [
      "What day of the week is it? Monday\n",
      "Today is a weekday, boo!\n"
     ]
    }
   ],
   "source": [
    "# 1b. prompt the user for a day of the week, print out whether the day is a weekday or a weekend\n",
    "\n",
    "weekday_or_weekend = input(\"What day of the week is it? \")\n",
    "weekdays = ['Monday', 'Tuesday', 'Wednesday', 'Thursday', 'Friday']\n",
    "weekends = ['Saturday', 'Sunday']\n",
    "\n",
    "if weekday_or_weekend in weekends:\n",
    "    print(\"Today is a weekend, yay!\")\n",
    "elif weekday_or_weekend in weekdays:\n",
    "    print(\"Today is a weekday, boo!\")"
   ]
  },
  {
   "cell_type": "code",
   "execution_count": 5,
   "id": "eb74e33f",
   "metadata": {},
   "outputs": [
    {
     "name": "stdout",
     "output_type": "stream",
     "text": [
      "937.5\n"
     ]
    }
   ],
   "source": [
    "'''\n",
    "1c.create variables and make up values for\n",
    "- the number of hours worked in one week\n",
    "- the hourly rate\n",
    "- how much the week's paycheck will be\n",
    "- write the python code that calculates the weekly paycheck. \n",
    "- You get paid time and a half if you work more than 40 hours\n",
    "'''\n",
    "\n",
    "fulltime_limit = 40\n",
    "number_of_hours_worked = 55\n",
    "hourly_rate = 15\n",
    "overtime_rate= hourly_rate * 1.5\n",
    "\n",
    "if number_of_hours_worked < 40:\n",
    "    print(number_of_hours_worked * hourly_rate)\n",
    "elif number_of_hours_worked > 40:\n",
    "    print( \n",
    "        ((number_of_hours_worked - fulltime_limit) * overtime_rate) \n",
    "        + \n",
    "        (fulltime_limit * hourly_rate)\n",
    "         )"
   ]
  },
  {
   "cell_type": "code",
   "execution_count": 6,
   "id": "f2670599",
   "metadata": {},
   "outputs": [
    {
     "name": "stdout",
     "output_type": "stream",
     "text": [
      "5\n",
      "6\n",
      "7\n",
      "8\n",
      "9\n",
      "10\n",
      "11\n",
      "12\n",
      "13\n",
      "14\n",
      "15\n"
     ]
    }
   ],
   "source": [
    "'''\n",
    "Create an integer variable i with a value of 5.\n",
    "Create a while loop that runs so long as i is less than or equal to 15\n",
    "Each loop iteration, output the current value of i, then increment i by one.\n",
    "Your output should look like this:\n",
    "5\n",
    "6\n",
    "7\n",
    "8\n",
    "9\n",
    "10\n",
    "11\n",
    "12\n",
    "13\n",
    "14\n",
    "15\n",
    "'''\n",
    "i = 5\n",
    "while i <= 15:\n",
    "    print(i)\n",
    "    i += 1"
   ]
  },
  {
   "cell_type": "code",
   "execution_count": 7,
   "id": "604b1ca5",
   "metadata": {},
   "outputs": [
    {
     "name": "stdout",
     "output_type": "stream",
     "text": [
      "0\n",
      "2\n",
      "4\n",
      "6\n",
      "8\n",
      "10\n",
      "12\n",
      "14\n",
      "16\n",
      "18\n",
      "20\n",
      "22\n",
      "24\n",
      "26\n",
      "28\n",
      "30\n",
      "32\n",
      "34\n",
      "36\n",
      "38\n",
      "40\n",
      "42\n",
      "44\n",
      "46\n",
      "48\n",
      "50\n",
      "52\n",
      "54\n",
      "56\n",
      "58\n",
      "60\n",
      "62\n",
      "64\n",
      "66\n",
      "68\n",
      "70\n",
      "72\n",
      "74\n",
      "76\n",
      "78\n",
      "80\n",
      "82\n",
      "84\n",
      "86\n",
      "88\n",
      "90\n",
      "92\n",
      "94\n",
      "96\n",
      "98\n",
      "100\n"
     ]
    }
   ],
   "source": [
    "'''\n",
    "Create a while loop that will count by 2's starting with 0 and ending at 100. \n",
    "Follow each number with a new line.\n",
    "\n",
    "\n",
    "Create a while loop that starts at 2, and displays the number squared on each line while \n",
    "the number is less than 1,000,000. Output should equal:\n",
    "'''\n",
    "\n",
    "i = 0\n",
    "while i <= 100:\n",
    "    print(i)\n",
    "    i += 2"
   ]
  },
  {
   "cell_type": "code",
   "execution_count": 8,
   "id": "ebd2c63d",
   "metadata": {},
   "outputs": [
    {
     "name": "stdout",
     "output_type": "stream",
     "text": [
      "100\n",
      "95\n",
      "90\n",
      "85\n",
      "80\n",
      "75\n",
      "70\n",
      "65\n",
      "60\n",
      "55\n",
      "50\n",
      "45\n",
      "40\n",
      "35\n",
      "30\n",
      "25\n",
      "20\n",
      "15\n",
      "10\n",
      "5\n",
      "0\n",
      "-5\n",
      "-10\n"
     ]
    }
   ],
   "source": [
    "#Alter your loop to count backwards by 5's from 100 to -10.\n",
    "\n",
    "i = 100\n",
    "while i >= -10:\n",
    "    print(i)\n",
    "    i -= 5"
   ]
  },
  {
   "cell_type": "code",
   "execution_count": 9,
   "id": "ac6fafef",
   "metadata": {},
   "outputs": [
    {
     "name": "stdout",
     "output_type": "stream",
     "text": [
      "2\n",
      "4\n",
      "16\n",
      "256\n",
      "65536\n"
     ]
    }
   ],
   "source": [
    "'''\n",
    "Create a while loop that starts at 2, and displays the number squared \n",
    "on each line while the number is less than 1,000,000. \n",
    "Output should equal:\n",
    " 2\n",
    " 4\n",
    " 16\n",
    " 256\n",
    " 65536\n",
    "'''\n",
    "i = 2\n",
    "while i < 1_000_000_000:\n",
    "    print(i)\n",
    "    i= i*i"
   ]
  },
  {
   "cell_type": "code",
   "execution_count": 10,
   "id": "6442bc60",
   "metadata": {},
   "outputs": [
    {
     "name": "stdout",
     "output_type": "stream",
     "text": [
      "100\n",
      "95\n",
      "90\n",
      "85\n",
      "80\n",
      "75\n",
      "70\n",
      "65\n",
      "60\n",
      "55\n",
      "50\n",
      "45\n",
      "40\n",
      "35\n",
      "30\n",
      "25\n",
      "20\n",
      "15\n",
      "10\n",
      "5\n"
     ]
    }
   ],
   "source": [
    "'''\n",
    "Write a loop that uses print to create the output shown below.\n",
    "100\n",
    "95\n",
    "90\n",
    "85\n",
    "80\n",
    "75\n",
    "70\n",
    "65\n",
    "60\n",
    "55\n",
    "50\n",
    "45\n",
    "40\n",
    "35\n",
    "30\n",
    "25\n",
    "20\n",
    "15\n",
    "10\n",
    "5\n",
    "'''\n",
    "i = 100\n",
    "while i >= 5:\n",
    "    print (i)\n",
    "    i-= 5"
   ]
  },
  {
   "cell_type": "code",
   "execution_count": 11,
   "id": "08661aa1",
   "metadata": {},
   "outputs": [
    {
     "name": "stdout",
     "output_type": "stream",
     "text": [
      "Please enter a number: 4\n",
      "\n",
      "4 x 1 = 4\n",
      "4 x 2 = 8\n",
      "4 x 3 = 12\n",
      "4 x 4 = 16\n",
      "4 x 5 = 20\n",
      "4 x 6 = 24\n",
      "4 x 7 = 28\n",
      "4 x 8 = 32\n",
      "4 x 9 = 36\n",
      "4 x 10 = 40\n"
     ]
    }
   ],
   "source": [
    "# Write some code that prompts the user for a number, \n",
    "# then shows a multiplication table up through 10 for that number.\n",
    "\n",
    "number = int(input(\"Please enter a number: \"))\n",
    "print()\n",
    "for count in range(1, 11):      \n",
    "   print (number, 'x', count, '=', number * count)"
   ]
  },
  {
   "cell_type": "code",
   "execution_count": 12,
   "id": "b8ecf4c5",
   "metadata": {},
   "outputs": [
    {
     "name": "stdout",
     "output_type": "stream",
     "text": [
      "1\n",
      "22\n",
      "333\n",
      "4444\n",
      "55555\n",
      "666666\n",
      "7777777\n",
      "88888888\n",
      "999999999\n"
     ]
    }
   ],
   "source": [
    "for i in range(1,10):\n",
    "    print(i * str(i))"
   ]
  },
  {
   "cell_type": "code",
   "execution_count": 13,
   "id": "03485b47",
   "metadata": {},
   "outputs": [
    {
     "name": "stdout",
     "output_type": "stream",
     "text": [
      "Please enter a odd number bewtween 1 and 50: 25\n",
      "Number to skip is: 25\n",
      "\n",
      "Here is an odd number: 1\n",
      "Here is an odd number: 3\n",
      "Here is an odd number: 5\n",
      "Here is an odd number: 7\n",
      "Here is an odd number: 9\n",
      "Here is an odd number: 11\n",
      "Here is an odd number: 13\n",
      "Here is an odd number: 15\n",
      "Here is an odd number: 17\n",
      "Here is an odd number: 19\n",
      "Here is an odd number: 21\n",
      "Here is an odd number: 23\n",
      "Yikes! Skipping number: 25\n",
      "Here is an odd number: 27\n",
      "Here is an odd number: 29\n",
      "Here is an odd number: 31\n",
      "Here is an odd number: 33\n",
      "Here is an odd number: 35\n",
      "Here is an odd number: 37\n",
      "Here is an odd number: 39\n",
      "Here is an odd number: 41\n",
      "Here is an odd number: 43\n",
      "Here is an odd number: 45\n",
      "Here is an odd number: 47\n",
      "Here is an odd number: 49\n"
     ]
    }
   ],
   "source": [
    "#ci.\n",
    "def choose_odd_number_between_1_50():\n",
    "    while True:\n",
    "        user_number = input(\"Please enter a odd number bewtween 1 and 50: \")\n",
    "\n",
    "        if user_number.isdigit():\n",
    "            user_number = int(user_number)\n",
    "\n",
    "            lower_than_max_number = user_number < 50\n",
    "            higher_than_min_number = user_number > 1\n",
    "            number_is_odd = user_number % 2 != 0\n",
    "\n",
    "            if lower_than_max_number and higher_than_min_number and number_is_odd:\n",
    "                break\n",
    "            else:\n",
    "                print(\"your input is either not odd,is not a number, or is out of the range\")\n",
    "\n",
    "    return user_number\n",
    "\n",
    "user_number = choose_odd_number_between_1_50()\n",
    "\n",
    "print(f\"Number to skip is: {user_number}\")\n",
    "print() # prints an extra new line\n",
    "\n",
    "for i in range(1, 50, 2):\n",
    "    if i == user_number:\n",
    "        print(f\"Yikes! Skipping number: {i}\")\n",
    "        continue\n",
    "    print(f\"Here is an odd number: {i}\")"
   ]
  },
  {
   "cell_type": "code",
   "execution_count": 14,
   "id": "8637f8d7",
   "metadata": {
    "scrolled": false
   },
   "outputs": [
    {
     "name": "stdout",
     "output_type": "stream",
     "text": [
      "Please enter a postive number: 7\n",
      "0\n",
      "1\n",
      "2\n",
      "3\n",
      "4\n",
      "5\n",
      "6\n",
      "7\n"
     ]
    }
   ],
   "source": [
    "'''The input function can be used to prompt for \n",
    "input and use that input in your python code. \n",
    "Prompt the user to enter a positive number and write a loop that counts from 0 to that number. \n",
    "(Hints: first make sure that the value the user entered is a valid number, \n",
    "also note that the input function returns a string, \n",
    "so you'll need to convert this to a numeric type.)\n",
    "'''\n",
    "user_number = input(\"Please enter a postive number: \")\n",
    "\n",
    "if user_number.isdigit():\n",
    "    user_number = int(user_number)\n",
    "            \n",
    "for i in range (int(user_number)+1):\n",
    "    if user_number > 0:\n",
    "        print(i)"
   ]
  },
  {
   "cell_type": "code",
   "execution_count": 15,
   "id": "69d81b19",
   "metadata": {},
   "outputs": [
    {
     "name": "stdout",
     "output_type": "stream",
     "text": [
      "Please enter a postive number: 6\n",
      "6\n",
      "5\n",
      "4\n",
      "3\n",
      "2\n",
      "1\n"
     ]
    }
   ],
   "source": [
    "# Write a program that prompts the user for a positive integer. \n",
    "# Next write a loop that prints out the numbers from the number the user entered down to 1.    \n",
    "user_number = input(\"Please enter a postive number: \")\n",
    "\n",
    "if user_number.isdigit():\n",
    "    user_number = int(user_number)\n",
    "            \n",
    "if user_number >= 1:\n",
    "        for i in reversed(range(1, user_number + 1)):\n",
    "            print(i)"
   ]
  },
  {
   "cell_type": "code",
   "execution_count": 16,
   "id": "92711a56",
   "metadata": {},
   "outputs": [
    {
     "name": "stdout",
     "output_type": "stream",
     "text": [
      "1\n",
      "2\n",
      "Buzz\n",
      "4\n",
      "Fizz\n",
      "Buzz\n",
      "7\n",
      "8\n",
      "Buzz\n",
      "Fizz\n",
      "11\n",
      "Buzz\n",
      "13\n",
      "14\n",
      "FizzBuzz\n",
      "16\n",
      "17\n",
      "Buzz\n",
      "19\n",
      "Fizz\n",
      "Buzz\n",
      "22\n",
      "23\n",
      "Buzz\n",
      "Fizz\n",
      "26\n",
      "Buzz\n",
      "28\n",
      "29\n",
      "FizzBuzz\n",
      "31\n",
      "32\n",
      "Buzz\n",
      "34\n",
      "Fizz\n",
      "Buzz\n",
      "37\n",
      "38\n",
      "Buzz\n",
      "Fizz\n",
      "41\n",
      "Buzz\n",
      "43\n",
      "44\n",
      "FizzBuzz\n",
      "46\n",
      "47\n",
      "Buzz\n",
      "49\n",
      "Fizz\n",
      "Buzz\n",
      "52\n",
      "53\n",
      "Buzz\n",
      "Fizz\n",
      "56\n",
      "Buzz\n",
      "58\n",
      "59\n",
      "FizzBuzz\n",
      "61\n",
      "62\n",
      "Buzz\n",
      "64\n",
      "Fizz\n",
      "Buzz\n",
      "67\n",
      "68\n",
      "Buzz\n",
      "Fizz\n",
      "71\n",
      "Buzz\n",
      "73\n",
      "74\n",
      "FizzBuzz\n",
      "76\n",
      "77\n",
      "Buzz\n",
      "79\n",
      "Fizz\n",
      "Buzz\n",
      "82\n",
      "83\n",
      "Buzz\n",
      "Fizz\n",
      "86\n",
      "Buzz\n",
      "88\n",
      "89\n",
      "FizzBuzz\n",
      "91\n",
      "92\n",
      "Buzz\n",
      "94\n",
      "Fizz\n",
      "Buzz\n",
      "97\n",
      "98\n",
      "Buzz\n",
      "Fizz\n"
     ]
    }
   ],
   "source": [
    "\n",
    "# One of the most common interview questions for entry-level programmers is the FizzBuzz test. \n",
    "# Developed by Imran Ghory, the test is designed to test basic looping and conditional logic skills.\n",
    "# Write a program that prints the numbers from 1 to 100.\n",
    "# For multiples of three print \"Fizz\" instead of the number\n",
    "# For the multiples of five print \"Buzz\".\n",
    "# For numbers which are multiples of both three and five print \"FizzBuzz\".\n",
    "\n",
    "for i in range (1, 101):\n",
    "    if i % 15 == 0:\n",
    "        print(\"FizzBuzz\")\n",
    "        continue\n",
    "    if i % 5 == 0:\n",
    "        print (\"Fizz\")\n",
    "        continue\n",
    "    if i % 3 == 0:\n",
    "        print(\"Buzz\")\n",
    "        continue\n",
    "    print(i)"
   ]
  },
  {
   "cell_type": "code",
   "execution_count": 17,
   "id": "6b6c4a52",
   "metadata": {},
   "outputs": [
    {
     "name": "stdout",
     "output_type": "stream",
     "text": [
      "What number would you like to go up to? 6\n",
      "\n",
      "Here is your table!\n",
      "\n",
      "1 | 1 | 1\n",
      "2 | 4 | 8\n",
      "3 | 9 | 27\n",
      "4 | 16 | 64\n",
      "5 | 25 | 125\n",
      "6 | 36 | 216\n",
      "Would you like to continue? Enter Y or N n\n"
     ]
    }
   ],
   "source": [
    "# Display a table of powers.\n",
    "# Prompt the user to enter an integer.\n",
    "# Display a table of squares and cubes from 1 to the value entered.\n",
    "# Ask if the user wants to continue.\n",
    "# Assume that the user will enter valid data.\n",
    "# Only continue if the user agrees to.\n",
    "\n",
    "\n",
    "user_number = input(\"What number would you like to go up to? \")\n",
    "user_number = int(user_number)\n",
    "print()\n",
    "print(\"Here is your table!\")\n",
    "print()\n",
    "\n",
    "for i in (range(1, user_number + 1)):\n",
    "        print(f'{i} | {i**2} | {i**3}')\n",
    "\n",
    "while True:\n",
    "    user_y_n = input('Would you like to continue? Enter Y or N ')\n",
    "    if user_y_n != 'Y' or 'y':\n",
    "        break"
   ]
  },
  {
   "cell_type": "code",
   "execution_count": 18,
   "id": "5a10feaf",
   "metadata": {},
   "outputs": [
    {
     "name": "stdout",
     "output_type": "stream",
     "text": [
      "Enter a numerical grade from 0-100 5\n",
      "F\n",
      "Would you like to continue? Enter Y or N N\n"
     ]
    }
   ],
   "source": [
    "user_grade = input('Enter a numerical grade from 0-100 ')\n",
    "user_grade = int(user_grade)\n",
    "\n",
    "if user_grade >= 88:\n",
    "    print ('A')\n",
    "elif user_grade >= 80:\n",
    "    print('B')\n",
    "elif user_grade >= 67:\n",
    "    print('C')\n",
    "elif user_grade >= 60:\n",
    "    print('D')\n",
    "elif user_grade >= 0:\n",
    "    print('F')\n",
    "    \n",
    "user_y_n = input('Would you like to continue? Enter Y or N ')\n",
    "while True:\n",
    "    if user_y_n != 'Y' or 'y':\n",
    "        break"
   ]
  }
 ],
 "metadata": {
  "kernelspec": {
   "display_name": "Python 3 (ipykernel)",
   "language": "python",
   "name": "python3"
  },
  "language_info": {
   "codemirror_mode": {
    "name": "ipython",
    "version": 3
   },
   "file_extension": ".py",
   "mimetype": "text/x-python",
   "name": "python",
   "nbconvert_exporter": "python",
   "pygments_lexer": "ipython3",
   "version": "3.9.12"
  }
 },
 "nbformat": 4,
 "nbformat_minor": 5
}
