{
 "cells": [
  {
   "cell_type": "code",
   "execution_count": null,
   "id": "2bf22819",
   "metadata": {},
   "outputs": [],
   "source": [
    "# Define a function named is_two. \n",
    "# It should accept one input and return True if the passed input is either \n",
    "# the number or the string 2, \n",
    "#False otherwise.\n",
    "\n",
    "def is_two(x):\n",
    "    '''Take in the input and return True if the input equals either the number 2, the string '2' everything else will return False'''\n",
    "    if x == 2 or x == '2':\n",
    "        return True\n",
    "    else:\n",
    "        return False"
   ]
  },
  {
   "cell_type": "code",
   "execution_count": null,
   "id": "9ab6bbd8",
   "metadata": {},
   "outputs": [],
   "source": [
    "is_two (2)"
   ]
  },
  {
   "cell_type": "code",
   "execution_count": null,
   "id": "40d8986a",
   "metadata": {},
   "outputs": [],
   "source": [
    "is_two ('2')"
   ]
  },
  {
   "cell_type": "code",
   "execution_count": null,
   "id": "eff449a8",
   "metadata": {},
   "outputs": [],
   "source": [
    "# Define a function named is_vowel. \n",
    "# It should return True if the passed string is a vowel\n",
    "# False otherwise.\n",
    "\n",
    "def is_vowel(x):\n",
    "    ''' This pulls the input and if the input is in the string aeiou it will return it as true since the string contains all the vowels anything else will return false'''\n",
    "    if len(x) == 1:\n",
    "        if x in list('aeiou'):\n",
    "            return True\n",
    "        else:\n",
    "            print(\"You did not enter a vowel\")"
   ]
  },
  {
   "cell_type": "code",
   "execution_count": null,
   "id": "6a40f082",
   "metadata": {},
   "outputs": [],
   "source": [
    "is_vowel('b')"
   ]
  },
  {
   "cell_type": "code",
   "execution_count": null,
   "id": "9a105143",
   "metadata": {},
   "outputs": [],
   "source": [
    "# Define a function named is_consonant. \n",
    "# It should return True if the passed string is a consonant, \n",
    "# False otherwise. Use your is_vowel function to accomplish this.\n",
    "\n",
    "def is_consonant(x):\n",
    "    ''' Any input that is not in the string aeiou is returned as True since the string contains only vowels'''\n",
    "    if x not in 'aeiou':\n",
    "        return True\n",
    "    else:\n",
    "        return False"
   ]
  },
  {
   "cell_type": "code",
   "execution_count": null,
   "id": "eecf9e73",
   "metadata": {},
   "outputs": [],
   "source": [
    "is_consonant('b')"
   ]
  },
  {
   "cell_type": "code",
   "execution_count": null,
   "id": "066dedda",
   "metadata": {},
   "outputs": [],
   "source": [
    "is_consonant('a')"
   ]
  },
  {
   "cell_type": "code",
   "execution_count": null,
   "id": "ccab73a2",
   "metadata": {},
   "outputs": [],
   "source": [
    "# Define a function that accepts a string that is a word.\n",
    "# The function should capitalize the first letter of the word if the word starts with a consonant\n",
    "\n",
    "def starts_w_consonant(x):\n",
    "    ''' This functions uses the previously made is_consonant function and says if the first character in the input is a consonant then capitalize it. If not, leave it alone'''\n",
    "    if is_consonant(x[0]):\n",
    "        return x.capitalize()\n",
    "    else:\n",
    "        return x"
   ]
  },
  {
   "cell_type": "code",
   "execution_count": null,
   "id": "0cf1a5b6",
   "metadata": {},
   "outputs": [],
   "source": [
    "starts_w_consonant('hello')"
   ]
  },
  {
   "cell_type": "code",
   "execution_count": null,
   "id": "12772628",
   "metadata": {},
   "outputs": [],
   "source": [
    "starts_w_consonant('apple')"
   ]
  },
  {
   "cell_type": "code",
   "execution_count": null,
   "id": "a3eba492",
   "metadata": {},
   "outputs": [],
   "source": [
    "# Define a function named calculate_tip. \n",
    "# It should accept a tip percentage (a number between 0 and 1) and the bill total, \n",
    "# and return the amount to tip.\n",
    "\n",
    "def calculate_tip(tip,bill):\n",
    "    ''' This function starts off by making sure that the tip is between 0 and 1, if not it tells the customer to enter a value between them, afterwards it calculates the tip by multiplying the tip and the bill then returns that answer'''\n",
    "    if tip > 1 or tip < 0:\n",
    "        print(\"Please enter a tip amount between 0 and 1\")\n",
    "        return\n",
    "    else:\n",
    "        tip_amount = bill*tip\n",
    "        return (\"Tip Amount: $\" +str(tip_amount))"
   ]
  },
  {
   "cell_type": "code",
   "execution_count": null,
   "id": "c6e91a92",
   "metadata": {},
   "outputs": [],
   "source": [
    "calculate_tip(.5, 100)"
   ]
  },
  {
   "cell_type": "code",
   "execution_count": null,
   "id": "d9e09e59",
   "metadata": {},
   "outputs": [],
   "source": [
    "#Define a function named apply_discount. \n",
    "# It should accept a original price, and a discount percentage, \n",
    "# and return the price after the discount is applied.\n",
    "\n",
    "def apply_discount(discount, price):\n",
    "    '''\n",
    "    This functions finds the discounted and substracts that amount from the original price, then returns the answer found'''\n",
    "    discount_amount = (price - (discount * price))\n",
    "    return (\"Your total after your discount is: $\" + str(discount_amount))"
   ]
  },
  {
   "cell_type": "code",
   "execution_count": null,
   "id": "bb851f31",
   "metadata": {},
   "outputs": [],
   "source": [
    "apply_discount(.5, 100)"
   ]
  },
  {
   "cell_type": "code",
   "execution_count": null,
   "id": "40e067c9",
   "metadata": {},
   "outputs": [],
   "source": [
    "# Define a function named handle_commas.\n",
    "# It should accept a string that is a number \n",
    "# that contains commas in it as input, and return a number as output.\n",
    "def handle_commas(x):\n",
    "    ''' This functions start out by verifying that the user input a string value and prompts them if they were incorrect, if it input correctly then the functions replaces any commas with nothing, essentially removing them and returns the product after the commas are removed.'''\n",
    "    if type(x) != str:\n",
    "        print (\"You must enter the string of the number\")\n",
    "        return\n",
    "    else: \n",
    "        x = x.replace(\",\",\"\")\n",
    "        return x"
   ]
  },
  {
   "cell_type": "code",
   "execution_count": null,
   "id": "edb44dc2",
   "metadata": {},
   "outputs": [],
   "source": [
    "handle_commas('1,000')"
   ]
  },
  {
   "cell_type": "code",
   "execution_count": null,
   "id": "61cf6ab7",
   "metadata": {},
   "outputs": [],
   "source": [
    "# Define a function named get_letter_grade.\n",
    "# It should accept a number and return the \n",
    "# letter grade associated with that number (A-F)\n",
    "\n",
    "def get_letter_grade(x):\n",
    "    ''' This function verifies if the input is a integer, if it is then returns the letter grade depding on what range the number falls in'''\n",
    "    if type(x) != int:\n",
    "        print (\"You must enter a number\")\n",
    "        return\n",
    "    elif x >= 88:\n",
    "        return ('A')\n",
    "    elif x >= 80:\n",
    "        return('B')\n",
    "    elif x >= 67:\n",
    "        print('C')\n",
    "    elif x >= 60:\n",
    "        return('D')\n",
    "    elif x >= 0:\n",
    "        return('F')"
   ]
  },
  {
   "cell_type": "code",
   "execution_count": null,
   "id": "7e1ca56a",
   "metadata": {},
   "outputs": [],
   "source": [
    "get_letter_grade(80)"
   ]
  },
  {
   "cell_type": "code",
   "execution_count": null,
   "id": "a45b2b40",
   "metadata": {},
   "outputs": [],
   "source": [
    "get_letter_grade('B')"
   ]
  },
  {
   "cell_type": "code",
   "execution_count": null,
   "id": "6dc8d996",
   "metadata": {},
   "outputs": [],
   "source": [
    "#Define a function named remove_vowels that accepts a string \n",
    "#and returns a string with all the vowels removed.\n",
    "\n",
    "def remove_vowels(x):\n",
    "    ''' This function starts by verifying that the input type is a string, if it is it then checks if any letters in the string are vowels then replaces the vowels with blank space, thus removing them'''\n",
    "    if type(x) != str:\n",
    "        print (\"You must enter a string\")\n",
    "        return\n",
    "    vowels = ('aeiouAEIOU')\n",
    "    for letters in x:\n",
    "        if letters in vowels:\n",
    "            x = x.replace(letters, \"\")\n",
    "    return x"
   ]
  },
  {
   "cell_type": "code",
   "execution_count": null,
   "id": "cc218348",
   "metadata": {},
   "outputs": [],
   "source": [
    "remove_vowels(\"#babababa\")"
   ]
  },
  {
   "cell_type": "code",
   "execution_count": 8,
   "id": "1872939d",
   "metadata": {},
   "outputs": [],
   "source": [
    "# Define a function named normalize_name. It should accept a string and return a valid python identifier, \n",
    "\n",
    "def normalize_name(x):\n",
    "    newstring = ''\n",
    "    for letter in x:\n",
    "        if letter.isidentifier() or letter == ' ':\n",
    "            newstring += letter\n",
    "    return newstring.strip().lower().replace(' ', '_')"
   ]
  },
  {
   "cell_type": "code",
   "execution_count": 11,
   "id": "084fa423",
   "metadata": {},
   "outputs": [
    {
     "data": {
      "text/plain": [
       "'hello_you'"
      ]
     },
     "execution_count": 11,
     "metadata": {},
     "output_type": "execute_result"
    }
   ],
   "source": [
    "normalize_name('% Hello You! ')"
   ]
  },
  {
   "cell_type": "code",
   "execution_count": 5,
   "id": "96045bb0",
   "metadata": {},
   "outputs": [],
   "source": [
    "# Write a function named cumulative_sum that accepts a \n",
    "# list of numbers and returns a list\n",
    "# that is the cumulative sum of the numbers in the list.\n",
    "# cumulative_sum([1, 1, 1]) returns [1, 2, 3]\n",
    "# cumulative_sum([1, 2, 3, 4]) returns [1, 3, 6, 10]\n",
    "\n",
    "def cumulative_sum(list):\n",
    "    cumsum_list = []\n",
    "    length = len(list)\n",
    "    cumsum_list = [sum(list[0:x:1]) for x in range(0, length+1)]\n",
    "    return cumsum_list[1:]"
   ]
  },
  {
   "cell_type": "code",
   "execution_count": null,
   "id": "293c2dd0",
   "metadata": {},
   "outputs": [],
   "source": [
    "cumulative_sum([1, 2, 3, 4])"
   ]
  },
  {
   "cell_type": "code",
   "execution_count": null,
   "id": "984c0931",
   "metadata": {},
   "outputs": [],
   "source": [
    "cumulative_sum([1, 2, 3, 4])"
   ]
  }
 ],
 "metadata": {
  "kernelspec": {
   "display_name": "Python 3 (ipykernel)",
   "language": "python",
   "name": "python3"
  },
  "language_info": {
   "codemirror_mode": {
    "name": "ipython",
    "version": 3
   },
   "file_extension": ".py",
   "mimetype": "text/x-python",
   "name": "python",
   "nbconvert_exporter": "python",
   "pygments_lexer": "ipython3",
   "version": "3.9.12"
  }
 },
 "nbformat": 4,
 "nbformat_minor": 5
}
